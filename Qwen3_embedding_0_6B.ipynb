{
  "nbformat": 4,
  "nbformat_minor": 0,
  "metadata": {
    "colab": {
      "provenance": []
    },
    "kernelspec": {
      "name": "python3",
      "display_name": "Python 3"
    },
    "language_info": {
      "name": "python"
    }
  },
  "cells": [
    {
      "cell_type": "code",
      "source": [
        "# Requires transformers>=4.51.0\n",
        "# Requires sentence-transformers>=2.7.0"
      ],
      "metadata": {
        "id": "0MYuCpuVO5LI"
      },
      "execution_count": null,
      "outputs": []
    },
    {
      "cell_type": "code",
      "source": [
        "import transformers\n",
        "print(transformers.__version__)"
      ],
      "metadata": {
        "colab": {
          "base_uri": "https://localhost:8080/"
        },
        "id": "_DNpiPtqPenO",
        "outputId": "776ae713-31a2-4c42-c2cb-1d6156d8d67f"
      },
      "execution_count": null,
      "outputs": [
        {
          "output_type": "stream",
          "name": "stdout",
          "text": [
            "4.55.2\n"
          ]
        }
      ]
    },
    {
      "cell_type": "code",
      "source": [
        "import sentence_transformers\n",
        "print(sentence_transformers.__version__)"
      ],
      "metadata": {
        "colab": {
          "base_uri": "https://localhost:8080/"
        },
        "id": "0dc3ZtOhPgbD",
        "outputId": "44fb2980-d5b7-4804-fdaa-21fac9a11dc4"
      },
      "execution_count": null,
      "outputs": [
        {
          "output_type": "stream",
          "name": "stdout",
          "text": [
            "5.1.0\n"
          ]
        }
      ]
    },
    {
      "cell_type": "code",
      "source": [
        "from sentence_transformers import SentenceTransformer"
      ],
      "metadata": {
        "id": "WFsOjR9QO46t"
      },
      "execution_count": null,
      "outputs": []
    },
    {
      "cell_type": "code",
      "source": [
        "# Load the model (15-30 sec)\n",
        "# Works on GPU and CPU\n",
        "model = SentenceTransformer(\"Qwen/Qwen3-Embedding-0.6B\")\n",
        "\n",
        "# We recommend enabling flash_attention_2 for better acceleration and memory saving,\n",
        "# together with setting `padding_side` to \"left\":\n",
        "# model = SentenceTransformer(\n",
        "#     \"Qwen/Qwen3-Embedding-0.6B\",\n",
        "#     model_kwargs={\"attn_implementation\": \"flash_attention_2\", \"device_map\": \"auto\"},\n",
        "#     tokenizer_kwargs={\"padding_side\": \"left\"},\n",
        "# )"
      ],
      "metadata": {
        "id": "rMQ-iB03O9bX"
      },
      "execution_count": null,
      "outputs": []
    },
    {
      "cell_type": "code",
      "source": [
        "# Embed the queries\n",
        "queries = [\n",
        "    \"What is the capital of Lithuania?\",\n",
        "    \"Explain gravity\",\n",
        "]\n",
        "\n",
        "# Note that queries benefit from using a prompt\n",
        "# Here we use the prompt called \"query\" stored under `model.prompts`, but you can\n",
        "# also pass your own prompt via the `prompt` argument\n",
        "query_embeddings = model.encode(queries, prompt_name=\"query\")"
      ],
      "metadata": {
        "id": "BRQaW-kqPDOn"
      },
      "execution_count": null,
      "outputs": []
    },
    {
      "cell_type": "code",
      "execution_count": null,
      "metadata": {
        "id": "M2EbC0eFOxWl"
      },
      "outputs": [],
      "source": [
        "# Embed the documents\n",
        "documents = [\n",
        "    \"\"\"The capital of Lithuania is Vilnius. Here are a few facts about it:\n",
        "Largest city: Vilnius is the biggest city in Lithuania, with a population of about 600,000 in the city and over 800,000 in the metropolitan area.\n",
        "UNESCO World Heritage Site: Its Old Town is one of the largest surviving medieval old towns in Northern Europe and was designated a UNESCO World Heritage Site in 1994.\n",
        "Historic architecture: Vilnius is known for its baroque architecture, but it also features Gothic, Renaissance, and modern styles.\n",
        "Academic center: The city is home to Vilnius University, founded in 1579, one of the oldest universities in Eastern Europe.\n",
        "\"\"\",\n",
        "\n",
        "    \"Gravity is a force that attracts two bodies towards each other. It gives weight to physical objects and is responsible for the movement of planets around the sun.\",\n",
        "\n",
        "    \"\"\"Historically, Vilnius has been a melting pot of cultures—Lithuanian, Polish, Jewish, Belarusian, and Russian influences are strong in its heritage.\n",
        "Geographic claim: A point near Vilnius is sometimes considered the geographic center of Europe, according to calculations by the French National Geographic Institute in 1989.\n",
        "Bohemian district: Užupis, a quirky neighborhood in Vilnius, declared itself an independent republic in 1997, with its own constitution, flag, and even a president.\"\"\"\n",
        "]\n",
        "\n",
        "document_embeddings = model.encode(documents)"
      ]
    },
    {
      "cell_type": "code",
      "source": [
        "# Compute the (cosine) similarity between the query and document embeddings\n",
        "similarity = model.similarity(query_embeddings, document_embeddings)\n",
        "print(similarity)"
      ],
      "metadata": {
        "colab": {
          "base_uri": "https://localhost:8080/"
        },
        "id": "TUzVaRTTPA3N",
        "outputId": "ff459fd5-097e-4d13-ae93-652453200b7e"
      },
      "execution_count": null,
      "outputs": [
        {
          "output_type": "stream",
          "name": "stdout",
          "text": [
            "tensor([[0.7369, 0.1018, 0.5172],\n",
            "        [0.0682, 0.6000, 0.1246]])\n"
          ]
        }
      ]
    },
    {
      "cell_type": "markdown",
      "source": [
        "## Query with instruction"
      ],
      "metadata": {
        "id": "5EpHwbDGRZz1"
      }
    },
    {
      "cell_type": "code",
      "source": [
        "task_description = \"Given a search query, retrieve relevant passages that answer the query\"\n",
        "\n",
        "# Embed the queries\n",
        "instruct_queries = [\n",
        "    f'Instruct: {task_description}\\nQuery:What is the capital of Lithuania?',\n",
        "    f'Instruct: {task_description}\\nQuery:Explain gravity',\n",
        "]\n",
        "\n",
        "# Note that queries benefit from using a prompt\n",
        "# Here we use the prompt called \"query\" stored under `model.prompts`, but you can\n",
        "# also pass your own prompt via the `prompt` argument\n",
        "instruct_query_embeddings = model.encode(instruct_queries, prompt_name=\"query\")"
      ],
      "metadata": {
        "id": "NiKKukQMRPBW"
      },
      "execution_count": null,
      "outputs": []
    },
    {
      "cell_type": "code",
      "source": [
        "# Compute the (cosine) similarity between the query and document embeddings\n",
        "similarity = model.similarity(instruct_query_embeddings, document_embeddings)\n",
        "print(similarity)\n"
      ],
      "metadata": {
        "colab": {
          "base_uri": "https://localhost:8080/"
        },
        "id": "TTBP60ejR2yn",
        "outputId": "20a305e6-c5d3-4eba-8570-a11072e8014d"
      },
      "execution_count": null,
      "outputs": [
        {
          "output_type": "stream",
          "name": "stdout",
          "text": [
            "tensor([[0.7386, 0.1171, 0.5344],\n",
            "        [0.0793, 0.6046, 0.1439]])\n"
          ]
        }
      ]
    }
  ]
}